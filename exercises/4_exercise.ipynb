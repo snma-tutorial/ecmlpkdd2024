{
 "cells": [
  {
   "cell_type": "markdown",
   "id": "20053f79-a4fe-4fc1-ad04-55bea0e56b93",
   "metadata": {},
   "source": [
    "# Exercise #4: Model Selection in Networks Using a Bayesian Approach"
   ]
  },
  {
   "cell_type": "markdown",
   "id": "921d67ee-5f6d-4f2a-ab06-73a2008116e1",
   "metadata": {},
   "source": [
    "## Overview\n",
    "\n",
    "In this exercise, we aim to understand how real-world networks form by investigating the mechanisms behind edge formation. Often, in empirical networks, we are interested in identifying whether nodes connect based on shared characteristics (homophily) or popularity (preferential attachment). \n",
    "\n",
    "### Key Concepts:\n",
    "- **Homophily**: The tendency for similar individuals to connect more frequently. This is a common pattern in social networks [McPherson et al. 2001](https://www.annualreviews.org/content/journals/10.1146/annurev.soc.27.1.415)\n",
    "- **Preferential Attachment**: The phenomenon where popular nodes (those with many connections) attract even more connections, reinforcing their popularity. This mechanism is tied to the *Matthew Effect* [Merton, 1968](https://www.science.org/doi/abs/10.1126/science.159.3810.56) and the *Barabási-Albert model* [Barabasi and Albert](https://www.science.org/doi/full/10.1126/science.286.5439.509).\n",
    "\n",
    "There are multiple approaches to investigating these patterns, such as fitting data into generative models or using **Multiple Regression Quadratic Assignment Procedure (MRQAP)**, an extension for covariate matrices [Dekker et al. 2007](https://link.springer.com/article/10.1007/S11336-007-9016-1). However, this exercise will cover a different approach using **Bayesian inference**.\n",
    "\n",
    "We will use **JANUS**, a model published by [Espín-Noboa et al. (2017)](https://link.springer.com/article/10.1007/s41109-017-0036-1), based on **HypTrails** [Singer et al. 2017](https://dl.acm.org/doi/abs/10.1145/3054950). This approach uses prior beliefs to calculate marginal likelihoods (evidence) for different hypotheses and compares them to determine which hypothesis best explains the connections observed in the network.\n",
    "\n",
    "## Task\n",
    "\n",
    "1. **Generate a Synthetic Network**: Create a synthetic network of your choice (directed or undirected).\n",
    "2. **Set Hypotheses**: Use the `netin.algorithms.janus.JanusModelFitting` method to test multiple hypotheses about how the network formed.\n",
    "   - **Baseline Hypotheses**: Random connections, self-loops, and data-based connections.\n",
    "   - **Edge Formation Mechanisms**: Include hypotheses based on **homophily**, **preferential attachment**, or a combination of both. *Only hypotheses about undirected networks are supported so far.*\n",
    "3. **Apply Bayesian Inference**: Use JANUS to compute the **marginal likelihoods** for each hypothesis.\n",
    "4. **Compare Hypotheses**: Analyze the relative plausibility of each hypothesis based on the computed evidence.\n",
    "5. **Store the Evidence scores**: Save to a file all the evidence scores for all your hypotheses.\n",
    "\n",
    "### Instructions\n",
    "\n",
    "1. Generate a synthetic network with customizable parameters (directed/undirected, size, etc.).\n",
    "2. Define multiple hypotheses using JANUS, including random baselines and more sophisticated mechanisms like homophily and preferential attachment.\n",
    "3. Use Bayesian inference to compare these hypotheses by calculating the marginal likelihood for each one.\n",
    "4. Visualize the results to see which hypothesis best explains the formation of the synthetic network.\n",
    "\n",
    "### Expected Outcome\n",
    "\n",
    "By the end of this exercise, you will be able to apply a **Bayesian approach** to model selection in networks, testing multiple hypotheses about edge formation and determining which one best explains the observed patterns. This process will enhance your understanding of how to infer the underlying mechanisms of network formation using **evidence-based** comparison methods.\n",
    "\n",
    "### Disclaimer\n",
    "\n",
    "The implementation of Janus is in testing mode. If you encounter any bug or incosistency please report it on our [GitHub repository](https://github.com/CSHVienna/NetworkInequalities/issues).\n",
    "\n"
   ]
  },
  {
   "cell_type": "markdown",
   "id": "1e865fb6-5483-40e5-a4dc-4c7c38f85d00",
   "metadata": {},
   "source": [
    "___"
   ]
  },
  {
   "cell_type": "code",
   "execution_count": null,
   "id": "783c8a8c-9f48-4cbc-a4d7-1da2e9f16abc",
   "metadata": {},
   "outputs": [],
   "source": [
    "# ### If running this on Google Colab, run the following lines:\n",
    "# import os\n",
    "# !pip install netin==2.0.0a1\n",
    "# !pip install networkx==3.2.1\n",
    "# !mkdir plots\n",
    "# !mkdir results\n",
    "# os.kill(os.getpid(), 9)"
   ]
  },
  {
   "cell_type": "code",
   "execution_count": null,
   "id": "d81b2539-d6c6-4565-a26e-b0aadc6d2343",
   "metadata": {},
   "outputs": [],
   "source": [
    "## Undirected Network models\n",
    "from netin.models import ...\n",
    "from netin.models import ...\n",
    "..."
   ]
  },
  {
   "cell_type": "code",
   "execution_count": null,
   "id": "b33c6ed9-323a-4ecc-8394-8080457cc8bd",
   "metadata": {},
   "outputs": [],
   "source": [
    "## Directed Network models\n",
    "from netin.models import ...\n",
    "..."
   ]
  },
  {
   "cell_type": "code",
   "execution_count": null,
   "id": "d246b498-0da9-4c43-bb03-edc86fa4be0b",
   "metadata": {},
   "outputs": [],
   "source": [
    "## Janus: A Bayesian approach for hypothesis testing on edge formation\n",
    "from ... import JanusModelFitting"
   ]
  },
  {
   "cell_type": "code",
   "execution_count": null,
   "id": "00cfb234-e512-488b-af82-aaa357e6804e",
   "metadata": {},
   "outputs": [],
   "source": [
    "## Utils\n",
    "from netin.utils import io"
   ]
  },
  {
   "cell_type": "markdown",
   "id": "1438a799-25b2-4dce-a6ae-ebe863ea8f57",
   "metadata": {},
   "source": [
    "## Constants"
   ]
  },
  {
   "cell_type": "code",
   "execution_count": null,
   "id": "746a6c66-a6bd-4fb3-ae34-65099b997cf0",
   "metadata": {},
   "outputs": [],
   "source": [
    "PLOTS = 'plots/'        # where to store the plots\n",
    "OUTPUT_DIR = 'results/' # where to store the evidence values\n",
    "io.validate_dir(PLOTS)\n",
    "io.validate_dir(OUTPUT_DIR)"
   ]
  },
  {
   "cell_type": "markdown",
   "id": "c1eac27a-bbbe-4c66-8034-1a6fc6c8625e",
   "metadata": {},
   "source": [
    "## Task 1. Generate a Synthetic (Undirected or Directed) Graph\n",
    "This graph will serve as your \"empirical\" input data."
   ]
  },
  {
   "cell_type": "code",
   "execution_count": null,
   "id": "51ff8e19-9b0c-44c4-8bdf-d3848056ab97",
   "metadata": {},
   "outputs": [],
   "source": [
    "# Network properties\n",
    "..."
   ]
  },
  {
   "cell_type": "code",
   "execution_count": null,
   "id": "8a1bfe9d-ccd3-4e8b-b506-efecdd53d835",
   "metadata": {},
   "outputs": [],
   "source": [
    "m_graph = ...Model(..., seed=seed)\n",
    "m_graph = m_graph.simulate()"
   ]
  },
  {
   "cell_type": "markdown",
   "id": "e0d6c2f4-6524-4301-896f-b65d794d1b7f",
   "metadata": {},
   "source": [
    "## Task 2. Generate hypotheses and compute their marginal likelihood\n",
    "Hint:  \n",
    "```python\n",
    "JanusModelFitting(graph: Graph,\n",
    "is_global: bool = True, \n",
    "k_max: int = 10, \n",
    "k_log_scale: bool = True, \n",
    "**attr)```"
   ]
  },
  {
   "cell_type": "code",
   "execution_count": null,
   "id": "5449c1d5-3eaf-49cd-b7b2-a39c0a817d94",
   "metadata": {},
   "outputs": [],
   "source": [
    "# Janus' parameters\n",
    "is_global = False\n",
    "k_max = 10\n",
    "k_log_scale = False\n",
    "verbose = False"
   ]
  },
  {
   "cell_type": "code",
   "execution_count": null,
   "id": "3cda3b79-6460-4f23-b0d9-7af1d0457e1b",
   "metadata": {},
   "outputs": [],
   "source": [
    "j = JanusModelFitting(...)"
   ]
  },
  {
   "cell_type": "markdown",
   "id": "262957a4-27db-4c92-aaa1-3947e31a2a94",
   "metadata": {},
   "source": [
    "### Default hypothesis\n",
    "Hint:\n",
    "```python\n",
    "h = j.get_uniform_hypothesis() -> Hypothesis\n",
    "e = j.generate_evidences(h: Hypothesis)"
   ]
  },
  {
   "cell_type": "markdown",
   "id": "4e8dbf85-e486-4cf5-9f7d-e2e271c55f34",
   "metadata": {},
   "source": [
    "#### Uniform"
   ]
  },
  {
   "cell_type": "code",
   "execution_count": null,
   "id": "8bf4e5e1-9cae-476a-ba52-4c7eb7f6727f",
   "metadata": {},
   "outputs": [],
   "source": [
    "# Uniform (all nodes are equally likely to be connected to each other)\n",
    "h = ...\n",
    "e = ...\n",
    "j.add_evidences(h.name, e)\n",
    "del(e)\n",
    "del(h)"
   ]
  },
  {
   "cell_type": "markdown",
   "id": "288424c8-5021-4ea9-a574-66dd1c90acd3",
   "metadata": {},
   "source": [
    "#### Self-loop"
   ]
  },
  {
   "cell_type": "code",
   "execution_count": null,
   "id": "d10b190f-8fb3-48f3-ab73-dcf27ca44b74",
   "metadata": {},
   "outputs": [],
   "source": [
    "# Self-loop hypothesis (only diagonal)\n",
    "h = ...\n",
    "e = ...\n",
    "j.add_evidences(h.name, e)\n",
    "del(e)\n",
    "del(h)"
   ]
  },
  {
   "cell_type": "markdown",
   "id": "a0f0b629-d73a-43bf-8297-c948a0716eda",
   "metadata": {},
   "source": [
    "#### Data"
   ]
  },
  {
   "cell_type": "code",
   "execution_count": null,
   "id": "2109d801-1006-4ff3-b841-ababcd06ce95",
   "metadata": {},
   "outputs": [],
   "source": [
    "# Data hypothesis (upper bound)\n",
    "h = ...\n",
    "e = ...\n",
    "j.add_evidences(h.name, e)\n",
    "del(e)\n",
    "del(h)"
   ]
  },
  {
   "cell_type": "markdown",
   "id": "a0efbc78-ae3f-47bd-a244-cd75c8893606",
   "metadata": {},
   "source": [
    "### Link formation hypotheses (belief-based)\n",
    "Hint:\n",
    "```python\n",
    "j.model_fitting_belief_based(m: netin.models.*, first_mover_bias:bool)\n",
    "```\n",
    "\n",
    "*Disclaimer: It only support undirected networks*"
   ]
  },
  {
   "cell_type": "code",
   "execution_count": null,
   "id": "3bedf376-b76c-4a3e-88f1-cf5dac039329",
   "metadata": {},
   "outputs": [],
   "source": [
    "# PA model\n",
    "e = j.model_fitting_belief_based(PAModel, first_mover_bias=False)\n",
    "name = (*e,)[0]\n",
    "e[f\"{name}\"] = e.pop(name)\n",
    "j.update_evidences(e)"
   ]
  },
  {
   "cell_type": "code",
   "execution_count": null,
   "id": "f724d949-ac60-4d85-8058-34326524958b",
   "metadata": {},
   "outputs": [],
   "source": [
    "# PA model accounting for node age\n",
    "e = j.model_fitting_belief_based(PAModel, first_mover_bias=True)\n",
    "name = (*e,)[0]\n",
    "e[f\"{name}_FMB\"] = e.pop(name)\n",
    "j.update_evidences(e)"
   ]
  },
  {
   "cell_type": "code",
   "execution_count": null,
   "id": "b79ae1d4-f437-43bf-a348-1879d3ca7054",
   "metadata": {},
   "outputs": [],
   "source": [
    "# PAH model\n",
    "# This might take a while, as it is generating 121 hypotheses (multiple combinations of h_m and h_M)\n",
    "# It returns only the best one (the one with highest marginal likelihood score)\n",
    "e = ...\n",
    "j.update_evidences(e)"
   ]
  },
  {
   "cell_type": "markdown",
   "id": "e99d496d-f29b-4851-b105-06e9f82174d7",
   "metadata": {},
   "source": [
    "## Task 4. Compare hypotheses"
   ]
  },
  {
   "cell_type": "markdown",
   "id": "b4da0441-c50c-4b7e-a802-ddb3310a61dd",
   "metadata": {},
   "source": [
    "### Evidence\n",
    "Marginal likelihood"
   ]
  },
  {
   "cell_type": "code",
   "execution_count": null,
   "id": "958800ec-5d86-40a1-b1d1-489a7820bad5",
   "metadata": {},
   "outputs": [],
   "source": [
    "j."
   ]
  },
  {
   "cell_type": "markdown",
   "id": "eb31e07a-fbfb-44e5-9a12-30755eaa2af4",
   "metadata": {},
   "source": [
    "### Bayes factor\n",
    "Compared against the uniform hypothesis"
   ]
  },
  {
   "cell_type": "code",
   "execution_count": null,
   "id": "cd919504-c03f-4a92-ba79-80dfc80f5f6c",
   "metadata": {},
   "outputs": [],
   "source": [
    "# Plots the bayes factors as the evidence of each hypothesis divided by the evidence of the uniform hypothesis\n",
    "j."
   ]
  },
  {
   "cell_type": "markdown",
   "id": "87c68af5-6b14-4d40-9c99-7c9984eb47fb",
   "metadata": {},
   "source": [
    "## Task 5. Store all evidence scores"
   ]
  },
  {
   "cell_type": "code",
   "execution_count": null,
   "id": "5871eba3-d2c1-4a07-b3ad-e211a5213dfe",
   "metadata": {},
   "outputs": [],
   "source": [
    "# Stores the dictionary with all evidence scores into disk\n",
    "j."
   ]
  },
  {
   "cell_type": "code",
   "execution_count": null,
   "id": "f257ed47-b2a4-4096-9729-d7323ed918d8",
   "metadata": {},
   "outputs": [],
   "source": []
  }
 ],
 "metadata": {
  "kernelspec": {
   "display_name": "Python 3 (ipykernel)",
   "language": "python",
   "name": "python3"
  },
  "language_info": {
   "codemirror_mode": {
    "name": "ipython",
    "version": 3
   },
   "file_extension": ".py",
   "mimetype": "text/x-python",
   "name": "python",
   "nbconvert_exporter": "python",
   "pygments_lexer": "ipython3",
   "version": "3.9.19"
  }
 },
 "nbformat": 4,
 "nbformat_minor": 5
}
