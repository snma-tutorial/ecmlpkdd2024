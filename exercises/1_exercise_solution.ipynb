{
 "cells": [
  {
   "cell_type": "markdown",
   "metadata": {},
   "source": [
    "# Exercise 1: Graph generation using `netin`\n",
    "## Overview\n",
    "In this workshop, we will focus on generating synthetic network data using the `netin` package, which is designed to simulate and analyze networks with a specific emphasis on the existence of a minority group, connecting through common link formation mechanisms, and the measurement of network inequalities.\n",
    "\n",
    "This exercise focuses on the simulation of existing network models with varying parameter configurations and the introduction of the data structures introduced by the package.\n",
    "\n",
    "Check the [documentation](https://cshvienna.github.io/NetworkInequalities/alpha/) to learn about the package details.\n",
    "Here, we will focus on the follow package modules:\n",
    "- `models`: Contains the network models to simulate (e.g., `PAHModel`)\n",
    "- `graphs`: Internal graph classes and vectors of node data."
   ]
  },
  {
   "cell_type": "markdown",
   "metadata": {},
   "source": [
    "<img src=\"images/class_structure.png\" alt=\"Class Structure\" style=\"width: 900px;\"/>"
   ]
  },
  {
   "cell_type": "markdown",
   "metadata": {},
   "source": [
    "### Key Concepts\n",
    "\n",
    "1. **Network Generation**: Definition and simulation of various network models and potential parameters, such as a homophilic or heterophilic `PAHModel`.\n",
    "2. **Data Structures and Model Extension**: Handling and manipulation of important data structures provided by the `netin` package. How to inject your own code to analyze or change the model behavior at runtime.\n",
    "3. **The Effects of Homophily**: A use-case to study the effects of homophily on the segregation of the network.\n",
    "\n",
    "### Task\n",
    "1. Define and simulate a range of existing undirected and directed network models.\n",
    "2. Retrieve and analyze node attributes like the minority/majority group-assignment or their degrees.\n",
    "3. Study the effect of homophily on network segregation through the simulation and analysis of three models.\n",
    "4. Inject your own code to track the growth of in- and out-group links as a function of the simulation time. "
   ]
  },
  {
   "cell_type": "markdown",
   "metadata": {
    "id": "kZliccYS_kxT"
   },
   "source": [
    "## Dependencies"
   ]
  },
  {
   "cell_type": "code",
   "execution_count": null,
   "metadata": {
    "id": "5yvo8fuC_kxR",
    "pycharm": {
     "is_executing": true
    }
   },
   "outputs": [],
   "source": [
    "### If running this on Google Colab, run the following lines:\n",
    "\n",
    "import os\n",
    "!pip install netin==2.0.0a1\n",
    "!pip install networkx==3.2.1\n",
    "os.kill(os.getpid(), 9)"
   ]
  },
  {
   "cell_type": "code",
   "execution_count": 1,
   "metadata": {},
   "outputs": [],
   "source": [
    "%load_ext autoreload\n",
    "%autoreload 2"
   ]
  },
  {
   "cell_type": "code",
   "execution_count": 2,
   "metadata": {
    "ExecuteTime": {
     "end_time": "2023-04-17T14:16:57.770043Z",
     "start_time": "2023-04-17T14:16:57.724911Z"
    },
    "id": "yNiovg1G_kxT",
    "outputId": "f9761e37-e451-4142-b943-f764bb89f7a3",
    "pycharm": {
     "is_executing": true
    }
   },
   "outputs": [],
   "source": [
    "import time\n",
    "\n",
    "import numpy as np\n",
    "import networkx as nx\n",
    "import matplotlib.pyplot as plt\n",
    "\n",
    "from netin.models import\\\n",
    "    BarabasiAlbertModel, HomophilyModel, PAHModel,\\\n",
    "    PATCHModel, CompoundLFM,\\\n",
    "    DPAModel, DPAHModel\n",
    "from netin.graphs import\\\n",
    "    Graph,\\\n",
    "    NodeVector, CategoricalNodeVector\n",
    "from netin.utils import CLASS_ATTRIBUTE, Event\n",
    "from netin import viz"
   ]
  },
  {
   "cell_type": "markdown",
   "metadata": {
    "id": "VIfTmuB5_kxU"
   },
   "source": [
    "## Undirected graphs\n",
    "We start with the simulation of an undirected `HomophilyModel`.\n",
    "This model connects a new node to the existing nodes biased by their group assignment.\n",
    "Homophily values of `h>0.5` indicate homophily, meaning that nodes prefer to connect to their own group.\n",
    "Heterophily is specified by `h<0.5`.\n",
    "Nodes tend to connect to the other group."
   ]
  },
  {
   "cell_type": "code",
   "execution_count": 3,
   "metadata": {},
   "outputs": [],
   "source": [
    "N = 200 # Number of total nodes\n",
    "m = 3 # Number of new links per joining node\n",
    "f_m = 0.3 # Fraction of minority nodes\n",
    "h = 0.8 # Homophilic\n",
    "\n",
    "h_model = HomophilyModel(N=200, m=3, f_m=0.3, h_m=h, h_M=h)\n",
    "h_graph = h_model.simulate()"
   ]
  },
  {
   "cell_type": "markdown",
   "metadata": {},
   "source": [
    "**Task**: Instantiate the following network models with arbitrary parameters and simulate them (see the [model documentation page](https://cshvienna.github.io/NetworkInequalities/alpha/models/index.html)):\n",
    "1. `BarabasiAlbertModel`: A popular network model based on preferential attachment (PA).\n",
    "2. `PAHModel`: An extension to the `BarabasiAlbertModel` which adds homophily (H).\n",
    "3. `PATCHModel` \\[Advanced\\]: Another extension including triadic closure (TC).\n",
    "   - Triadic closure creates two types of links. Those that are limited to friends of friends and those that can target every other node. Each selection can be unbiased (uniform) selection, by PA or PA+H. The choice which mechanism to use can be specified by passing a `CompoundLFM` in the constructor of `PATCHModel`. For instance, passing `CompoundLFM.PAH` for both link types will bias the target node selection by preferential attachment and homophily."
   ]
  },
  {
   "cell_type": "markdown",
   "metadata": {},
   "source": [
    "### Solution\n",
    "We start with general parameters and the `BarabasiAlbertModel`."
   ]
  },
  {
   "cell_type": "code",
   "execution_count": 4,
   "metadata": {},
   "outputs": [],
   "source": [
    "ba_model = BarabasiAlbertModel(N=N, m=m)\n",
    "ba_graph = ba_model.simulate()"
   ]
  },
  {
   "cell_type": "markdown",
   "metadata": {},
   "source": [
    "Add symmetric homophily, define and simulate the `PAHModel`."
   ]
  },
  {
   "cell_type": "code",
   "execution_count": 5,
   "metadata": {},
   "outputs": [],
   "source": [
    "h=0.5\n",
    "pah_model = PAHModel(N=N, m=m, f_m=f_m, h_M=h, h_m=h)\n",
    "pah_graph = pah_model.simulate()"
   ]
  },
  {
   "cell_type": "markdown",
   "metadata": {},
   "source": [
    "Choose link formation mechanism for both global and local links and triadic closure probability.\n",
    "Define and simulate `PATCHModel`."
   ]
  },
  {
   "cell_type": "code",
   "execution_count": 6,
   "metadata": {},
   "outputs": [],
   "source": [
    "ptc = 0.8\n",
    "lfm = CompoundLFM.PAH\n",
    "patch_model = PATCHModel(\n",
    "    N=N, m=m, f_m=f_m,\n",
    "    p_tc=ptc,\n",
    "    lfm_global=lfm, lfm_local=lfm,\n",
    "    lfm_params={\"h_M\":h, \"h_m\":h})\n",
    "patch_graph = patch_model.simulate()"
   ]
  },
  {
   "cell_type": "markdown",
   "metadata": {},
   "source": [
    "## Directed graphs\n",
    "Directed networks consider the directionality of links.\n",
    "A link `a->b` does not imply the presence of `b->a`.\n",
    "Nodes can thus have two link types, incoming or outgoing links.\n",
    "\n",
    "Instead of the number of links per each new node, the directed graph models parameterize the [density](https://en.wikipedia.org/wiki/Dense_graph) of the final network by the parameter `d`.\n",
    "Additionally, we need to define activity levels for outgoing links for both the minority and majority group as `plo_m/M`.\n",
    "\n",
    "**Task**: Create and simulate the two models `DPAModel` and `DPAHModel`.\n",
    "_Hint_: `plo_m/M` should be larger than zero."
   ]
  },
  {
   "cell_type": "code",
   "execution_count": null,
   "metadata": {},
   "outputs": [],
   "source": [
    "d = 0.01\n",
    "plo = 2.0"
   ]
  },
  {
   "cell_type": "markdown",
   "metadata": {},
   "source": [
    "### Solution"
   ]
  },
  {
   "cell_type": "code",
   "execution_count": 7,
   "metadata": {},
   "outputs": [],
   "source": [
    "dpa_model = DPAModel(N=N, f_m=f_m, d=d, plo_M=plo, plo_m=plo)\n",
    "dpa_graph = dpa_model.simulate()"
   ]
  },
  {
   "cell_type": "code",
   "execution_count": 8,
   "metadata": {},
   "outputs": [],
   "source": [
    "dpa_model = DPAHModel(N=N, f_m=f_m, d=d, plo_M=plo, plo_m=plo, h_M=h, h_m=h)\n",
    "dpa_graph = dpa_model.simulate()"
   ]
  },
  {
   "cell_type": "markdown",
   "metadata": {},
   "source": [
    "## Data structures\n",
    "The result of a simulation is a `Graph` or `DiGraph` (see [documentation](https://cshvienna.github.io/NetworkInequalities/alpha/graphs.html)), depending on whether a undirected or directed model was used."
   ]
  },
  {
   "cell_type": "code",
   "execution_count": 9,
   "metadata": {},
   "outputs": [],
   "source": [
    "pah_model = PAHModel(N=N, m=m, f_m=f_m, h_M=h, h_m=h, seed=123)\n",
    "pah_graph = pah_model.simulate() # alternatively: pah_model.graph"
   ]
  },
  {
   "cell_type": "code",
   "execution_count": null,
   "metadata": {},
   "outputs": [],
   "source": [
    "type(pah_graph)"
   ]
  },
  {
   "cell_type": "markdown",
   "metadata": {},
   "source": [
    "These graphs can also be created manually."
   ]
  },
  {
   "cell_type": "code",
   "execution_count": null,
   "metadata": {},
   "outputs": [],
   "source": [
    "custom_graph = Graph()\n",
    "\n",
    "custom_graph.add_node(1)\n",
    "custom_graph.add_node(2)\n",
    "custom_graph.add_edge(1, 2)\n",
    "\n",
    "custom_graph.has_edge(1, 2)"
   ]
  },
  {
   "cell_type": "markdown",
   "metadata": {},
   "source": [
    "_Note_ that the `netin` is not an advanced graph manipulation package.\n",
    "However, it offers an interface to import or export graphs from/to [NetworkX](https://networkx.org/documentation/stable/index.html), a popular Python networks library."
   ]
  },
  {
   "cell_type": "code",
   "execution_count": null,
   "metadata": {},
   "outputs": [],
   "source": [
    "nx_pah_graph = pah_graph.to_nxgraph() # This creates a copy of the graph\n",
    "nx_pah_graph"
   ]
  },
  {
   "cell_type": "markdown",
   "metadata": {},
   "source": [
    "The reversed way is also possible:"
   ]
  },
  {
   "cell_type": "code",
   "execution_count": null,
   "metadata": {},
   "outputs": [],
   "source": [
    "nx_graph = nx.Graph()\n",
    "nx_graph.add_nodes_from(list(\"abcd\"))\n",
    "nx_graph.add_edge(\"a\", \"b\")\n",
    "nx_graph"
   ]
  },
  {
   "cell_type": "code",
   "execution_count": null,
   "metadata": {},
   "outputs": [],
   "source": [
    "node_ids, netin_graph = Graph.from_nxgraph(nx_graph)\n",
    "netin_graph"
   ]
  },
  {
   "cell_type": "markdown",
   "metadata": {},
   "source": [
    "Importing from a NetworkX graph returns a mapping of the node IDs (`node_ids`), because NetworkX allows custom node labels while `netin` stores nodes as integers.\n",
    "\n",
    "`node_ids` is a `NodeVector`, a wrapper for numpy arrays that assigns a value to each node.\n",
    "In this vector, the value is the node id of the original NetworkX graph."
   ]
  },
  {
   "cell_type": "code",
   "execution_count": null,
   "metadata": {},
   "outputs": [],
   "source": [
    "node_ids[0] # The original node id of node 0"
   ]
  },
  {
   "cell_type": "markdown",
   "metadata": {},
   "source": [
    "`NodeVectors` are used to compute connection probabilities and store the minority class membership.\n",
    "Most of the predefined model classes (such as `PAHModel`) assign a `minority` class attribute to the graph.\n",
    "This vector describes the minority group membership for each node."
   ]
  },
  {
   "cell_type": "code",
   "execution_count": null,
   "metadata": {},
   "outputs": [],
   "source": [
    "CLASS_ATTRIBUTE"
   ]
  },
  {
   "cell_type": "markdown",
   "metadata": {},
   "source": [
    "The minority node labels are assigned to the graph that was created during the simulation."
   ]
  },
  {
   "cell_type": "code",
   "execution_count": null,
   "metadata": {},
   "outputs": [],
   "source": [
    "nodes_minority = pah_graph.get_node_class(CLASS_ATTRIBUTE)\n",
    "nodes_minority"
   ]
  },
  {
   "cell_type": "code",
   "execution_count": null,
   "metadata": {},
   "outputs": [],
   "source": [
    "nodes_minority.vals() # Get the original `np.ndarray`"
   ]
  },
  {
   "cell_type": "markdown",
   "metadata": {},
   "source": [
    "There are three abstraction levels of `NodeVector`s based on the type of the stored values:\n",
    "1. `NodeVector` holds any type that can be stored in a `np.ndarray` (general purpose).\n",
    "2. `CategoricalNodeVector` stores integers and provides functions to map these integers to labels.\n",
    "3. `BinaryClassNodeVector` assigns a binary value to each node, providing additional methods to create and query minority assignments.\n",
    "\n",
    "These classes inherit from each other: `NodeVector -> CategoricalNodeVector -> BinaryClassNodeVector`."
   ]
  },
  {
   "cell_type": "code",
   "execution_count": null,
   "metadata": {},
   "outputs": [],
   "source": [
    "type(nodes_minority)"
   ]
  },
  {
   "cell_type": "code",
   "execution_count": null,
   "metadata": {},
   "outputs": [],
   "source": [
    "isinstance(nodes_minority, NodeVector)"
   ]
  },
  {
   "cell_type": "code",
   "execution_count": null,
   "metadata": {},
   "outputs": [],
   "source": [
    "isinstance(nodes_minority, CategoricalNodeVector)"
   ]
  },
  {
   "cell_type": "code",
   "execution_count": null,
   "metadata": {},
   "outputs": [],
   "source": [
    "nodes_minority.get_class_values() # A function of CategoricalNodeVector to translate the values to class labels"
   ]
  },
  {
   "cell_type": "code",
   "execution_count": null,
   "metadata": {},
   "outputs": [],
   "source": [
    "nodes_minority.get_n_minority() # A function of BinaryClassNodeVector to get the number of minority nodes"
   ]
  },
  {
   "cell_type": "markdown",
   "metadata": {},
   "source": [
    "`NodeVector` can be used with numpy functions:\n"
   ]
  },
  {
   "cell_type": "code",
   "execution_count": null,
   "metadata": {},
   "outputs": [],
   "source": [
    "np.sum(nodes_minority)"
   ]
  },
  {
   "cell_type": "markdown",
   "metadata": {},
   "source": [
    "**Tasks**:\n",
    "1. Create a DPAH model with a minority fraction of `f_m=0.1`. From the simulated network, retrieve the minority assignment and compute the actual fraction of nodes that were assigned to the minority class.\n",
    "   - _Hint_: Minority status is encoded as `1` and majority as `0`. Use numpy functions to quickly assess the fraction of minority nodes in the `NodeVector`. You can try different randomization seeds by providing varying integers to the `DPAHModel` constructor.\n",
    "2. Report the average and standard deviation of degrees\n",
    "    - _Hint_: Use `DiGraph.degrees()` and numpy functions."
   ]
  },
  {
   "cell_type": "markdown",
   "metadata": {},
   "source": [
    "### Solution"
   ]
  },
  {
   "cell_type": "code",
   "execution_count": null,
   "metadata": {},
   "outputs": [],
   "source": [
    "dpah_model = DPAHModel(N=N, f_m=0.1, d=d, plo_M=plo, plo_m=plo, h_M=h, h_m=h, seed=123)\n",
    "dpah_graph = dpah_model.simulate()\n",
    "minority_nodes = dpah_graph.get_node_class(CLASS_ATTRIBUTE)\n",
    "np.mean(minority_nodes)"
   ]
  },
  {
   "cell_type": "code",
   "execution_count": null,
   "metadata": {},
   "outputs": [],
   "source": [
    "degrees = dpah_graph.degrees()\n",
    "degrees"
   ]
  },
  {
   "cell_type": "code",
   "execution_count": null,
   "metadata": {},
   "outputs": [],
   "source": [
    "print(f\"Mean degree: {np.mean(degrees)} +- {np.std(degrees)}\")"
   ]
  },
  {
   "cell_type": "markdown",
   "metadata": {
    "id": "lSFKKX6n_kxV"
   },
   "source": [
    "## The effect of homophily\n",
    "One of the most common link formation mechanisms is homophily, the tendency of nodes to connect to other nodes with similar attributes.\n",
    "In social contexts, it can lead to network segregation with regards to the respective attribute.\n",
    "`netin` implements several models which implement homophily.\n",
    "\n",
    "**Tasks**:\n",
    "1. Create three `PAHModel`s\n",
    "   - Make sure all of them have the same number of nodes `N`, initial links per node `m`, fraction of minority `f_m`, and random seed `seed`.\n",
    "   - Use three different homophily values of $h \\in \\{0.2, 0.5, 0.8\\}$\n",
    "   - Save the models in a list called `l_models`\n",
    "2. Plot the networks using `viz.plot_graph`"
   ]
  },
  {
   "cell_type": "markdown",
   "metadata": {},
   "source": [
    "### Solution"
   ]
  },
  {
   "cell_type": "code",
   "execution_count": 28,
   "metadata": {},
   "outputs": [],
   "source": [
    "t_homophily = (0.2, 0.5, 0.8)\n",
    "l_models = [\n",
    "    PAHModel(N=N, m=m, f_m=f_m, h_M=h, h_m=h) for h in t_homophily\n",
    "]\n",
    "for model in l_models:\n",
    "    _ = model.simulate()"
   ]
  },
  {
   "cell_type": "code",
   "execution_count": null,
   "metadata": {},
   "outputs": [],
   "source": [
    "viz.plot_graph(l_models)"
   ]
  },
  {
   "cell_type": "markdown",
   "metadata": {},
   "source": [
    "It's typically difficult to infer network characteristics simply from visualizing the network.\n",
    "Let's create and compare a simple metric to evaluate the network segregation.\n",
    "\n",
    "**Task**: Compute and visualize the EI-index for each model (defined below).\n",
    "\n",
    "$$\n",
    "EI = \\frac{e_{out} - e_{in}}{e_{out} + e_{in}}\n",
    "$$\n",
    "\n",
    "The $EI$ goes to -1 for segregated networks and +1 for heterophilic networks, with\n",
    "- $e_{out}$: Number of out-group links (linking minority and majority group nodes)\n",
    "- $e_{in}$: Number of in-group links (linking between nodes of the same group, either within minority or within the majority group)"
   ]
  },
  {
   "cell_type": "code",
   "execution_count": 30,
   "metadata": {},
   "outputs": [],
   "source": [
    "def compute_ei_index(graph: Graph) -> float:\n",
    "    \"\"\"\n",
    "    Compute the EI index of a graph.\n",
    "\n",
    "    Parameters\n",
    "    ----------\n",
    "    graph : Graph\n",
    "        The graph to compute the EI index of.\n",
    "\n",
    "    Returns\n",
    "    -------\n",
    "    float\n",
    "        The EI index of the graph.\n",
    "    \"\"\"\n",
    "    e_in, e_out = 0, 0\n",
    "    minority_nodes = graph.get_node_class(CLASS_ATTRIBUTE)\n",
    "    for source, target in graph.edges():\n",
    "        if minority_nodes[source] == minority_nodes[target]:\n",
    "            e_in += 1\n",
    "        else:\n",
    "            e_out += 1\n",
    "    return (e_out - e_in) / (e_out + e_in)"
   ]
  },
  {
   "cell_type": "markdown",
   "metadata": {},
   "source": [
    "### Solution"
   ]
  },
  {
   "cell_type": "code",
   "execution_count": 31,
   "metadata": {},
   "outputs": [],
   "source": [
    "l_ei = []\n",
    "for model in l_models:\n",
    "    l_ei.append(compute_ei_index(model.graph))"
   ]
  },
  {
   "cell_type": "code",
   "execution_count": null,
   "metadata": {},
   "outputs": [],
   "source": [
    "plt.plot(range(3), l_ei, marker=\"s\")\n",
    "plt.axhline(0, color=\"black\", linestyle=\"--\")\n",
    "plt.xticks(range(3), t_homophily)\n",
    "plt.xlabel(\"Homophily $h$\")\n",
    "plt.ylabel(\"EI\")"
   ]
  },
  {
   "cell_type": "markdown",
   "metadata": {},
   "source": [
    "**Task**: \\[Advanced\\] Why is the EI-index for neutral homophily below the neutral value of zero?"
   ]
  },
  {
   "cell_type": "markdown",
   "metadata": {},
   "source": [
    "### Solution\n",
    "The main contributor are the varying group sizes. \n",
    "We are more likely to observe in-group links when one group is larger than 50% of the total population."
   ]
  },
  {
   "cell_type": "code",
   "execution_count": null,
   "metadata": {},
   "outputs": [],
   "source": [
    "_l_ei = []\n",
    "for seed in range(100):\n",
    "    _pah_model = PAHModel(N=N, m=m, f_m=0.5, h_M=0.5, h_m=0.5, seed=seed)\n",
    "    _pah_graph = _pah_model.simulate()\n",
    "    _l_ei.append(compute_ei_index(_pah_graph))\n",
    "print(f\"EI index: {np.mean(_l_ei)} +- {np.std(_l_ei)}\")"
   ]
  },
  {
   "cell_type": "markdown",
   "metadata": {},
   "source": [
    "## Model extensions\n",
    "Various steps of analysis require modification of the existing models.\n",
    "For instance, you may want to create custom models that only slightly change the pre-defined simulation logic or retrieve additional analytics about the simulation process.\n",
    "The package provides is highly modular and provides interfaces for these use cases."
   ]
  },
  {
   "cell_type": "markdown",
   "metadata": {},
   "source": [
    "### Event handling"
   ]
  },
  {
   "cell_type": "markdown",
   "metadata": {},
   "source": [
    "Various steps of the simulation trigger events, which we can use to inject our own code.\n",
    "Let's implement a simple clock that measures how long the simulation takes."
   ]
  },
  {
   "cell_type": "code",
   "execution_count": null,
   "metadata": {},
   "outputs": [],
   "source": [
    "time_taken = None\n",
    "\n",
    "def set_time(time:float):\n",
    "    \"\"\"Sets the initial starting time of the simulation.\n",
    "    \"\"\"\n",
    "    global time_taken\n",
    "    time_taken = time\n",
    "\n",
    "def subtract_time(time:float):\n",
    "    \"\"\"Subtracts the final time after the simulation has ended.\n",
    "    \"\"\"\n",
    "    global time_taken\n",
    "    time_taken = time - time_taken\n",
    "\n",
    "dpah_model = DPAHModel(\n",
    "    N=N, f_m=f_m, d=d, plo_M=plo, plo_m=plo, h_M=h, h_m=h)\n",
    "\n",
    "# Register event handlers that will be called when the specified event occurs\n",
    "dpah_model.register_event_handler(\n",
    "    Event.SIMULATION_START, # The event is triggered at the start of the simulation\n",
    "    lambda: set_time(time.time())) # The function to be called when the event occurs\n",
    "dpah_model.register_event_handler(\n",
    "    Event.SIMULATION_START,\n",
    "    lambda: subtract_time(time.time()))\n",
    "\n",
    "dpah_model.simulate()\n",
    "\n",
    "print(f\"Time taken: {time_taken} seconds\")\n"
   ]
  },
  {
   "cell_type": "markdown",
   "metadata": {},
   "source": [
    "**Task**: Plot the number of in-group and out-group links as a function of the simulation time.\n",
    "- Consider the `Event.ADD_LINK_AFTER` event triggered by the graph class and the `initialize_simulation` function of the model classes to instantiate the internal graph."
   ]
  },
  {
   "cell_type": "code",
   "execution_count": 35,
   "metadata": {},
   "outputs": [],
   "source": [
    "\n",
    "pah_model = PAHModel(N=N, m=m, f_m=f_m, h_M=0.8, h_m=0.8, seed=1)\n",
    "pah_model.initialize_simulation() # Initializes the internal graph and node attributes\n",
    "\n",
    "pah_graph = pah_model.graph\n",
    "minority_nodes = pah_graph.get_node_class(CLASS_ATTRIBUTE)"
   ]
  },
  {
   "cell_type": "markdown",
   "metadata": {},
   "source": [
    "### Solution"
   ]
  },
  {
   "cell_type": "code",
   "execution_count": 36,
   "metadata": {},
   "outputs": [],
   "source": [
    "cnt_out, cnt_in = [0], [0]\n",
    "def count_edge_type(source: int, target: int):\n",
    "    global cnt_out, cnt_in, minority_nodes\n",
    "    cnt_out.append(0)\n",
    "    cnt_in.append(0)\n",
    "    if minority_nodes[source] == minority_nodes[target]:\n",
    "        cnt_in[-1] = 1\n",
    "    else:\n",
    "        cnt_out[-1] = 1\n",
    "\n",
    "pah_graph.register_event_handler(\n",
    "    Event.LINK_ADD_AFTER,\n",
    "    lambda source, target: count_edge_type(source, target))\n",
    "\n",
    "_ = pah_model.simulate()"
   ]
  },
  {
   "cell_type": "code",
   "execution_count": null,
   "metadata": {},
   "outputs": [],
   "source": [
    "plt.step(\n",
    "    range(len(cnt_in)),\n",
    "    np.cumsum(cnt_in),\n",
    "    label=\"Intra-group edges\")\n",
    "plt.step(\n",
    "    range(len(cnt_out)),\n",
    "    np.cumsum(cnt_out),\n",
    "    label=\"Inter-group edges\")\n",
    "\n",
    "_=plt.legend()\n",
    "_=plt.xlabel(\"Simulation time\")\n",
    "_=plt.ylabel(\"Number of edges\")"
   ]
  },
  {
   "cell_type": "markdown",
   "metadata": {},
   "source": [
    "## Alternative network libraries\n",
    "There exist other software packages which are focused on the efficient analysis and generation of networks.\n",
    "Here, we provide a list of common libraries for R and Python."
   ]
  },
  {
   "cell_type": "markdown",
   "metadata": {},
   "source": [
    "### Python libraries\n",
    "- [NetworkX](https://networkx.github.io/):\n",
    "  A widely-used library for the creation, manipulation, and study of complex networks. It supports random graph generation and network visualization. The `netin` package provides interfaces to NetworkX.Supports many functions for varying graph types, large community and support\n",
    "\n",
    "- [Graph-tool](https://graph-tool.skewed.de/):\n",
    "  A high-performance library focused on the efficient manipulation and generation of complex networks. Strong support for stochastic block modelling, its simulation and inference.\n",
    "\n",
    "- [igraph](https://igraph.org/python/) (Python binding):\n",
    "  Focuses on performance with large-scale graph structures and offers various algorithms and network generation methods.\n",
    "  Very efficient for large networks.\n"
   ]
  },
  {
   "cell_type": "markdown",
   "metadata": {},
   "source": [
    "### R libraries\n",
    "- [igraph](https://igraph.org/r/) (R version):\n",
    "    Description: Same as Python’s igraph but used within the R ecosystem.\n",
    "\n",
    "- [statnet](https://statnet.org/):\n",
    "    A suite of R packages that offer tools for analyzing social networks, including network models and visualization with a strong support for exponential random graph modelling."
   ]
  }
 ],
 "metadata": {
  "colab": {
   "provenance": [
    {
     "file_id": "18j3WA4GtlioZw6dWiTMv5mtHm6zNENlN",
     "timestamp": 1724849161185
    },
    {
     "file_id": "https://github.com/snma-tutorial/www2023/blob/main/exercises/1_exercise_solution.ipynb",
     "timestamp": 1682972775222
    }
   ]
  },
  "kernelspec": {
   "display_name": "Python 3 (ipykernel)",
   "language": "python",
   "name": "python3"
  },
  "language_info": {
   "codemirror_mode": {
    "name": "ipython",
    "version": 3
   },
   "file_extension": ".py",
   "mimetype": "text/x-python",
   "name": "python",
   "nbconvert_exporter": "python",
   "pygments_lexer": "ipython3",
   "version": "3.9.19"
  }
 },
 "nbformat": 4,
 "nbformat_minor": 4
}
