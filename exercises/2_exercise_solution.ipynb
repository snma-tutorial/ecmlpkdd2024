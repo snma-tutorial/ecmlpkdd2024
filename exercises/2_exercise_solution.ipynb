{
 "cells": [
  {
   "cell_type": "markdown",
   "source": [
    "# Exercise #2: Auditing Node Rankings in Directed Networks"
   ],
   "metadata": {
    "collapsed": false
   }
  },
  {
   "cell_type": "markdown",
   "source": [
    "## Overview\n",
    "\n",
    "In this exercise, we will explore how network structure, particularly the mechanisms of edge formation, impacts node ranking algorithms. Node rankings help determine the importance or relevance of nodes in a network, with applications ranging from social networks to citation networks. We will specifically focus on **PageRank**, a widely used algorithm for ranking nodes based on their centrality.\n",
    "\n",
    "Our goal is to audit how **majority** and **minority** groups are represented in the top-k rankings of PageRank. A real-world example of this issue is the ranking of scholars based on citation or collaboration networks. For instance, how do men and women rank in the top-k of a PageRank algorithm, and how does this compare to their overall representation in the population?\n",
    "\n",
    "### Key Concepts:\n",
    "1. **Node Ranking**: Ranking nodes based on their importance using algorithms like degree centrality or PageRank.\n",
    "2. **Disparity**: The relationship between inequality (distribution of rankings) and inequity (representation of minority nodes in the top-k rankings).\n",
    "    a. **Inequality**: Measured by the Gini coefficient of the PageRank distribution.\n",
    "    b. **Inequity**: The representation of minority nodes in the top-k.\n",
    "\n",
    "We will use the **DPAHModel** to generate multiple synthetic directed networks and calculate **disparity scores** (inequality and inequity) to understand how these networks treat minority nodes in comparison to majority nodes.\n",
    "\n",
    "This approach was published in [Espín-Noboa et al. (2022)](https://www.nature.com/articles/s41598-022-05434-1) in *Nature Scientific Reports*.\n",
    "\n",
    "## Task\n",
    "\n",
    "1. **Generate Synthetic Networks**: Use the `DPAHModel` to create multiple synthetic directed networks with varying parameters.\n",
    "2. **Compute centrality metrics**: Rank the nodes in each network using a centrality metric e.g., the PageRank algorithm.\n",
    "3. **Compute Disparity Scores**:\n",
    "   - Calculate the **Gini coefficient** of the PageRank distribution to measure **inequality**.\n",
    "   - Analyze the **representation** of minority nodes in the top-k PageRank rankings to measure **inequity**.\n",
    "4. **Plot and Compare**: Visualize the disparity scores across the networks to see how inequality and inequity vary based on network structure.\n",
    "\n",
    "## Instructions\n",
    "\n",
    "1. Use the provided function to generate networks using the `DPAHModel`.\n",
    "2. Implement PageRank for each network.\n",
    "3. Write a function to compute the Gini coefficient of the PageRank distribution.\n",
    "4. Write another function to compute the inequity score, based on the proportion of minority nodes in the top-k PageRank.\n",
    "5. Plot the disparity scores (inequality and inequity) for comparison.\n",
    "\n",
    "## Expected Outcome\n",
    "\n",
    "By the end of this exercise, you will have a deeper understanding of how different network structures influence node rankings, and how inequality and inequity manifest in these rankings. You will also learn to audit algorithmic outcomes in the context of network science."
   ],
   "metadata": {
    "collapsed": false
   }
  },
  {
   "cell_type": "markdown",
   "source": [
    "___"
   ],
   "metadata": {
    "collapsed": false
   }
  },
  {
   "cell_type": "code",
   "execution_count": null,
   "outputs": [],
   "source": [
    "### If running this on Google Colab, run the following lines:\n",
    "# import os\n",
    "# !pip install netin==2.0.0a1\n",
    "# !mkdir plots\n",
    "# os.kill(os.getpid(), 9)"
   ],
   "metadata": {
    "collapsed": false,
    "ExecuteTime": {
     "start_time": "2024-09-12T11:44:26.312015Z",
     "end_time": "2024-09-12T11:44:26.339974Z"
    }
   }
  },
  {
   "cell_type": "markdown",
   "source": [
    "## Dependencies"
   ],
   "metadata": {
    "collapsed": false
   }
  },
  {
   "cell_type": "code",
   "execution_count": null,
   "outputs": [],
   "source": [
    "## Network models\n",
    "from netin.models import DPAModel\n",
    "from netin.models import DHModel\n",
    "from netin.models import DPAHModel"
   ],
   "metadata": {
    "collapsed": false,
    "ExecuteTime": {
     "start_time": "2024-09-12T11:44:26.364446Z",
     "end_time": "2024-09-12T11:44:26.816549Z"
    }
   }
  },
  {
   "cell_type": "code",
   "execution_count": null,
   "outputs": [],
   "source": [
    "## Utils\n",
    "import helper\n",
    "from netin import viz\n",
    "from netin.utils import io\n",
    "from netin.stats import networks as utils_network"
   ],
   "metadata": {
    "collapsed": false,
    "ExecuteTime": {
     "start_time": "2024-09-12T11:44:26.819947Z",
     "end_time": "2024-09-12T11:44:27.329842Z"
    }
   }
  },
  {
   "cell_type": "markdown",
   "source": [
    "## Constants"
   ],
   "metadata": {
    "collapsed": false
   }
  },
  {
   "cell_type": "code",
   "execution_count": null,
   "outputs": [],
   "source": [
    "PLOTS = '../plots/'\n",
    "io.validate_dir(PLOTS)"
   ],
   "metadata": {
    "collapsed": false,
    "ExecuteTime": {
     "start_time": "2024-09-12T11:44:27.331444Z",
     "end_time": "2024-09-12T11:44:27.336583Z"
    }
   }
  },
  {
   "cell_type": "markdown",
   "source": [
    "## Task 1. Generate Synthetic Directed Graphs"
   ],
   "metadata": {
    "collapsed": false
   }
  },
  {
   "cell_type": "code",
   "execution_count": null,
   "outputs": [],
   "source": [
    "### Fix some parameters of the networks\n",
    "\n",
    "N = 1000     # number of nodes\n",
    "d = 0.003    # number of edges to attach to every source node\n",
    "             # Hint: Remember that the final number of edges will be: e = d * n (n-1)\n",
    "f_m = 0.1    # fraction of minority group\n",
    "plo_M = 2.1  # powerlaw out_degree exponent of the majority group (activity)\n",
    "plo_m = 2.1  # powerlaw out_degree exponent of the minority group (activity)\n",
    "seed = 12345 # random seed (reproducibility)\n",
    "\n",
    "model_gen = DPAHModel # Model generator D-PA-H model generates networks with:\n",
    "                      # Directed edges, Preferential Attachment, and Homophily"
   ],
   "metadata": {
    "collapsed": false,
    "ExecuteTime": {
     "start_time": "2024-09-12T11:44:27.339012Z",
     "end_time": "2024-09-12T11:44:27.349940Z"
    }
   }
  },
  {
   "cell_type": "code",
   "execution_count": null,
   "outputs": [],
   "source": [
    "# DPAH graphs:\n",
    "# Homophilic h > 0.5\n",
    "# Neutral h = 0.5\n",
    "# Heterophilic h < 0.5\n",
    "\n",
    "homophily_values = [0.1, 0.5, 0.9]\n",
    "graph_models = []\n",
    "\n",
    "for h_M in homophily_values: # homophily within majority nodes\n",
    "    for h_m in homophily_values: # homophily within minority nodes\n",
    "\n",
    "        # generating graph\n",
    "        m = model_gen(N=N, d=d, f_m=f_m, plo_M=plo_M, plo_m=plo_m, h_M=h_M, h_m=h_m, seed=seed)\n",
    "        m.simulate()\n",
    "\n",
    "        # updating name to include homophily values\n",
    "        graph_models.append(m)"
   ],
   "metadata": {
    "collapsed": false,
    "ExecuteTime": {
     "start_time": "2024-09-12T11:44:27.353510Z",
     "end_time": "2024-09-12T11:44:40.938153Z"
    }
   }
  },
  {
   "cell_type": "markdown",
   "source": [
    "## Task 2. Compute Centrality metrics"
   ],
   "metadata": {
    "collapsed": false
   }
  },
  {
   "cell_type": "code",
   "execution_count": null,
   "outputs": [],
   "source": [
    "# generating node metadata dataframe\n",
    "metadata = []\n",
    "for m in graph_models:\n",
    "    df = utils_network.get_node_metadata_as_dataframe(m.graph)\n",
    "    df.name = model_gen.SHORT\n",
    "    df.name = helper.get_title(df, m.f_m, m.h_M, m.h_m)\n",
    "    metadata.append(df)"
   ],
   "metadata": {
    "collapsed": false,
    "ExecuteTime": {
     "start_time": "2024-09-12T11:44:40.950921Z",
     "end_time": "2024-09-12T11:44:46.780622Z"
    }
   }
  },
  {
   "cell_type": "markdown",
   "source": [
    "## Task 3. Getting to know the data"
   ],
   "metadata": {
    "collapsed": false
   }
  },
  {
   "cell_type": "code",
   "execution_count": null,
   "outputs": [],
   "source": [
    "### Setting the look & feel\n",
    "viz.reset_style()\n",
    "viz.set_paper_style()"
   ],
   "metadata": {
    "collapsed": false,
    "ExecuteTime": {
     "start_time": "2024-09-12T11:44:46.783061Z",
     "end_time": "2024-09-12T11:44:46.787188Z"
    }
   }
  },
  {
   "cell_type": "code",
   "execution_count": null,
   "outputs": [],
   "source": [
    "### Plotting al graphs at once\n",
    "### Showing 3 graphs per row\n",
    "\n",
    "viz.plot_graph(graph_models,\n",
    "               nc = 3,\n",
    "               cell_size = 2.0,\n",
    "               wspace = 0.1,\n",
    "               ignore_singletons=True,\n",
    "               fn = 'plots/4_all_graphs.pdf')"
   ],
   "metadata": {
    "collapsed": false
   }
  }
 ],
 "metadata": {
  "kernelspec": {
   "display_name": "Python 3",
   "language": "python",
   "name": "python3"
  },
  "language_info": {
   "codemirror_mode": {
    "name": "ipython",
    "version": 2
   },
   "file_extension": ".py",
   "mimetype": "text/x-python",
   "name": "python",
   "nbconvert_exporter": "python",
   "pygments_lexer": "ipython2",
   "version": "2.7.6"
  }
 },
 "nbformat": 4,
 "nbformat_minor": 0
}
