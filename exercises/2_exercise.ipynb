{
 "cells": [
  {
   "cell_type": "markdown",
   "metadata": {
    "collapsed": false,
    "jupyter": {
     "outputs_hidden": false
    }
   },
   "source": [
    "# Exercise #2: Auditing Node Rankings in Directed Networks"
   ]
  },
  {
   "cell_type": "markdown",
   "metadata": {
    "collapsed": false,
    "jupyter": {
     "outputs_hidden": false
    }
   },
   "source": [
    "## Overview\n",
    "\n",
    "In this exercise, we will explore how network structure, particularly the mechanisms of edge formation, impacts node ranking algorithms. Node rankings help determine the importance or relevance of nodes in a network, with applications ranging from social networks to citation networks. We will specifically focus on **PageRank**, a widely used algorithm for ranking nodes based on their centrality.\n",
    "\n",
    "Our goal is to audit how **majority** and **minority** groups are represented in the top-k rankings of PageRank. A real-world example of this issue is the ranking of scholars based on citation or collaboration networks. For instance, how do men and women rank in the top-k of a PageRank algorithm, and how does this compare to their overall representation in the population?\n",
    "\n",
    "### Key Concepts:\n",
    "1. **Node Ranking**: Ranking nodes based on their importance using algorithms like degree centrality or PageRank.\n",
    "2. **Disparity**: The relationship between inequality (distribution of rankings) and inequity (representation of minority nodes in the top-k rankings).\n",
    "    a. **Inequality**: Measured by the Gini coefficient of the PageRank distribution.\n",
    "    b. **Inequity**: The representation of minority nodes in the top-k.\n",
    "\n",
    "We will use the **DPAHModel** to generate multiple synthetic directed networks and calculate **disparity scores** (inequality and inequity) to understand how these networks treat minority nodes in comparison to majority nodes.\n",
    "\n",
    "This approach was published in [Espín-Noboa et al. (2022)](https://www.nature.com/articles/s41598-022-05434-1) in *Nature Scientific Reports*.\n",
    "\n",
    "## Task\n",
    "\n",
    "1. **Generate Synthetic Networks**: Use the `DPAHModel` to create multiple synthetic directed networks with varying parameters.\n",
    "2. **Compute centrality metrics**: Rank the nodes in each network using a centrality metric e.g., the PageRank algorithm.\n",
    "3. **Get to know your data visually!**: Plot the types of edges and degree distribution to see any patterns given the characteristics of the network.\n",
    "4. **Compute Disparity Scores**:\n",
    "   - Calculate the **Gini coefficient** of the PageRank distribution to measure **inequality**.\n",
    "   - Analyze the **representation** of minority nodes in the top-k PageRank rankings to measure **inequity**.\n",
    "5. **Plot and Compare**: Visualize the disparity scores across the networks to see how inequality and inequity vary based on network structure.\n",
    "\n",
    "## Instructions\n",
    "\n",
    "1. Use the provided function to generate networks using the `DPAHModel`.\n",
    "2. Use a centrality metric of nodes, e.g., `pagerank` or `in_degree` for each network.\n",
    "3. Use the built-in function to compute the inequality (Gini coefficient) of the PageRank distribution.\n",
    "4. Use another built-in function to compute the inequity (ME: mean error) of the representation of minority nodes in top-k ranks.\n",
    "5. Plot the disparity scores (inequality and inequity) for comparison.\n",
    "6. BONUS: Disentangle the effects of homophily, preferential attachment, and directed links.\n",
    "\n",
    "## Expected Outcome\n",
    "\n",
    "By the end of this exercise, you will have a deeper understanding of how different network structures influence node rankings, and how inequality and inequity manifest in these rankings. You will also learn to audit algorithmic outcomes in the context of network science."
   ]
  },
  {
   "cell_type": "markdown",
   "metadata": {
    "collapsed": false,
    "jupyter": {
     "outputs_hidden": false
    }
   },
   "source": [
    "___"
   ]
  },
  {
   "cell_type": "code",
   "execution_count": null,
   "metadata": {
    "ExecuteTime": {
     "end_time": "2024-09-12T14:00:16.203588Z",
     "start_time": "2024-09-12T14:00:16.177984Z"
    },
    "collapsed": false,
    "jupyter": {
     "outputs_hidden": false
    }
   },
   "outputs": [],
   "source": [
    "# ### If running this on Google Colab, run the following lines:\n",
    "# import os\n",
    "# !pip install netin==2.0.0a1\n",
    "# !pip install networkx==3.2.1\n",
    "# !wget -nc https://raw.githubusercontent.com/snma-tutorial/ecmlpkdd2024/main/exercises/helper.py\n",
    "# !mkdir plots\n",
    "# os.kill(os.getpid(), 9)"
   ]
  },
  {
   "cell_type": "markdown",
   "metadata": {
    "collapsed": false,
    "jupyter": {
     "outputs_hidden": false
    }
   },
   "source": [
    "## Dependencies"
   ]
  },
  {
   "cell_type": "code",
   "execution_count": null,
   "metadata": {
    "ExecuteTime": {
     "end_time": "2024-09-12T14:00:16.758149Z",
     "start_time": "2024-09-12T14:00:16.220484Z"
    },
    "collapsed": false,
    "jupyter": {
     "outputs_hidden": false
    }
   },
   "outputs": [],
   "source": [
    "## Directed Network models\n",
    "# import the models that generate directed networks with:\n",
    "# - only preferential attachment\n",
    "# - only homophily\n",
    "# - both, preferential attachment and homophily\n",
    "..."
   ]
  },
  {
   "cell_type": "code",
   "execution_count": null,
   "metadata": {
    "ExecuteTime": {
     "end_time": "2024-09-12T14:00:18.655612Z",
     "start_time": "2024-09-12T14:00:18.091949Z"
    },
    "collapsed": false,
    "jupyter": {
     "outputs_hidden": false
    }
   },
   "outputs": [],
   "source": [
    "## Utils\n",
    "from netin import viz\n",
    "from netin.utils import io\n",
    "from netin.stats import ranking \n",
    "from netin.stats import distributions\n",
    "from netin.utils import constants as const\n",
    "from netin.stats import networks"
   ]
  },
  {
   "cell_type": "code",
   "execution_count": null,
   "metadata": {},
   "outputs": [],
   "source": [
    "import pandas as pd"
   ]
  },
  {
   "cell_type": "code",
   "execution_count": null,
   "metadata": {},
   "outputs": [],
   "source": [
    "## Helper with additional functions\n",
    "%load_ext autoreload\n",
    "%autoreload 2\n",
    "\n",
    "import helper"
   ]
  },
  {
   "cell_type": "markdown",
   "metadata": {
    "collapsed": false,
    "jupyter": {
     "outputs_hidden": false
    }
   },
   "source": [
    "## Constants"
   ]
  },
  {
   "cell_type": "code",
   "execution_count": null,
   "metadata": {
    "ExecuteTime": {
     "end_time": "2024-09-12T14:00:19.367444Z",
     "start_time": "2024-09-12T14:00:19.264906Z"
    },
    "collapsed": false,
    "jupyter": {
     "outputs_hidden": false
    }
   },
   "outputs": [],
   "source": [
    "PLOTS = 'plots/'     # where to store the plots\n",
    "EXID = 2                # exercise id to name the plot files\n",
    "io.validate_dir(PLOTS)"
   ]
  },
  {
   "cell_type": "markdown",
   "metadata": {
    "collapsed": false,
    "jupyter": {
     "outputs_hidden": false
    }
   },
   "source": [
    "## Task 1. Generate Synthetic Directed Graphs"
   ]
  },
  {
   "cell_type": "code",
   "execution_count": null,
   "metadata": {
    "ExecuteTime": {
     "end_time": "2024-09-12T14:00:22.508940Z",
     "start_time": "2024-09-12T14:00:22.495368Z"
    },
    "collapsed": false,
    "jupyter": {
     "outputs_hidden": false
    }
   },
   "outputs": [],
   "source": [
    "### Fix some parameters of the networks\n",
    "\n",
    "N = ...      # number of nodes\n",
    "d = ...      # number of edges to attach to every source node\n",
    "             # Hint: Remember that the final number of edges will be: e = d * n (n-1)\n",
    "f_m = ...    # fraction of minority group\n",
    "plo_M = ...  # powerlaw out_degree exponent of the majority group (activity)\n",
    "plo_m = ...  # powerlaw out_degree exponent of the minority group (activity)\n",
    "seed = ...   # random seed (reproducibility)"
   ]
  },
  {
   "cell_type": "code",
   "execution_count": null,
   "metadata": {
    "ExecuteTime": {
     "end_time": "2024-09-12T14:00:36.393373Z",
     "start_time": "2024-09-12T14:00:23.480906Z"
    },
    "collapsed": false,
    "jupyter": {
     "outputs_hidden": false
    }
   },
   "outputs": [],
   "source": [
    "# DPAH graphs:\n",
    "# Homophilic h > 0.5\n",
    "# Neutral h = 0.5\n",
    "# Heterophilic h < 0.5\n",
    "\n",
    "# Generate 9 directed graphs with both preferential attachment and homophily\n",
    "# Add each of them to the graph_models list\n",
    "\n",
    "graph_models = []\n",
    "\n",
    "..."
   ]
  },
  {
   "cell_type": "markdown",
   "metadata": {
    "collapsed": false,
    "jupyter": {
     "outputs_hidden": false
    }
   },
   "source": [
    "## Task 2. Compute Centrality metrics"
   ]
  },
  {
   "cell_type": "code",
   "execution_count": null,
   "metadata": {
    "ExecuteTime": {
     "end_time": "2024-09-12T14:00:43.286723Z",
     "start_time": "2024-09-12T14:00:36.400798Z"
    },
    "collapsed": false,
    "jupyter": {
     "outputs_hidden": false
    }
   },
   "outputs": [],
   "source": [
    "# Generate the node metadata dataframe for each graph\n",
    "# Add them to the metadata list\n",
    "\n",
    "metadata = []\n",
    "for m in graph_models:\n",
    "    df = ...\n",
    "    df.name = helper.get_title(df, m.SHORT, m.f_m, m.h_M, m.h_m)\n",
    "    metadata.append(df)"
   ]
  },
  {
   "cell_type": "code",
   "execution_count": null,
   "metadata": {},
   "outputs": [],
   "source": [
    "# Inspect the content of the graph's metadata\n",
    "metadata[0].head()"
   ]
  },
  {
   "cell_type": "markdown",
   "metadata": {
    "collapsed": false,
    "jupyter": {
     "outputs_hidden": false
    }
   },
   "source": [
    "## Task 3. Getting to know the data visually"
   ]
  },
  {
   "cell_type": "code",
   "execution_count": null,
   "metadata": {
    "ExecuteTime": {
     "end_time": "2024-09-12T14:00:43.329208Z",
     "start_time": "2024-09-12T14:00:43.287675Z"
    },
    "collapsed": false,
    "jupyter": {
     "outputs_hidden": false
    }
   },
   "outputs": [],
   "source": [
    "### Setting the look & feel\n",
    "viz.reset_style()\n",
    "viz.set_paper_style()"
   ]
  },
  {
   "cell_type": "code",
   "execution_count": null,
   "metadata": {
    "collapsed": false,
    "jupyter": {
     "outputs_hidden": false
    },
    "pycharm": {
     "is_executing": true
    }
   },
   "outputs": [],
   "source": [
    "### Plotting al graphs at once\n",
    "### Showing 3 graphs per row\n",
    "\n",
    "fn = io.path_join(PLOTS, f'{EXID}_all_graphs.pdf')\n",
    "viz.plot_graph(graph_models,\n",
    "               nc = 3,\n",
    "               cell_size = 2.0,\n",
    "               wspace = 0.1,\n",
    "               ignore_singletons=True,\n",
    "               fn = fn)"
   ]
  },
  {
   "cell_type": "code",
   "execution_count": null,
   "metadata": {},
   "outputs": [],
   "source": [
    "### Plot edge counts for each graph\n",
    "\n",
    "fn = io.path_join(PLOTS, f'{EXID}_edge_types.pdf')\n",
    "helper.plot_edge_type_counts(graph_models, \n",
    "                             figsize = (12,5),\n",
    "                             width_bar = 0.08,\n",
    "                             nc_legend = 3,\n",
    "                             loc = 'best',\n",
    "                             fn=fn)"
   ]
  },
  {
   "cell_type": "code",
   "execution_count": null,
   "metadata": {},
   "outputs": [],
   "source": [
    "metadata[0].head()"
   ]
  },
  {
   "cell_type": "code",
   "execution_count": null,
   "metadata": {},
   "outputs": [],
   "source": [
    "#### Set the metric of interest (network property of the node)\n",
    "#### in_degree, out_degree, (degree for undirected), clustering, betweenness, etc. (see metadata)\n",
    "metric = 'pagerank'"
   ]
  },
  {
   "cell_type": "code",
   "execution_count": null,
   "metadata": {},
   "outputs": [],
   "source": [
    "### Plot in_degree distribution of the whole graph\n",
    "### Hint: Check out the dataframe. Which column has the in_degree of the node?\n",
    "\n",
    "kind = 'pdf'\n",
    "\n",
    "fn = io.path_join(PLOTS, f'{EXID}_{metric}_distribution.pdf')\n",
    "viz.plot_powerlaw_fit(data = metadata,\n",
    "                      col_name = metric,\n",
    "                      kind = kind,\n",
    "                      sharex = True, \n",
    "                      sharey = True,\n",
    "                      cell_size = (2.5,2.5),\n",
    "                      wspace = 0.1,\n",
    "                      loc = 3,\n",
    "                      nc = 3,\n",
    "                      fn = fn)"
   ]
  },
  {
   "cell_type": "code",
   "execution_count": null,
   "metadata": {},
   "outputs": [],
   "source": [
    "### Plot in_degree distribution of each group\n",
    "### Hint: Check out the dataframe. Which column has the class of the node?\n",
    "### M for majority, and m for minority.\n",
    "\n",
    "hue = 'real_label'\n",
    "\n",
    "fn = io.path_join(PLOTS, f'{EXID}_{metric}_distribution_by_{hue}.pdf')\n",
    "viz.plot_powerlaw_fit(data = metadata,\n",
    "                      col_name = metric,\n",
    "                      kind = kind,\n",
    "                      hue = hue,\n",
    "                      sharex = True, \n",
    "                      sharey = True,\n",
    "                      cell_size = (2.5,2.5),\n",
    "                      wspace = 0.1,\n",
    "                      loc = 1,\n",
    "                      nc = 3,\n",
    "                      fontsize = 9,\n",
    "                      fn = fn)"
   ]
  },
  {
   "cell_type": "markdown",
   "metadata": {},
   "source": [
    "## Task 4. Compute disparity scores"
   ]
  },
  {
   "cell_type": "code",
   "execution_count": null,
   "metadata": {},
   "outputs": [],
   "source": [
    "### smoothness to control for the smallest me (mean error: expected fm - observed fm)\n",
    "beta = const.INEQUITY_BETA\n",
    "beta"
   ]
  },
  {
   "cell_type": "code",
   "execution_count": null,
   "metadata": {},
   "outputs": [],
   "source": [
    "### Inspect the disparity scores (gini, and me) for each network\n",
    "\n",
    "df_disparity = pd.DataFrame(columns=['model','params','inequality','inequity','inequity_class'])\n",
    "\n",
    "for df in metadata:\n",
    "    f_m = df.query(\"real_label == @const.MINORITY_LABEL\").shape[0] / df.shape[0]\n",
    "    \n",
    "    inequity, inequality = distributions...(...) # disparity\n",
    "    inequity_class = ranking....(...) # inequity class\n",
    "    \n",
    "    model_name = df.name.replace('$_{','').replace('}$','')\n",
    "    model_name, params = model_name.split('\\n')\n",
    "    tmp = pd.DataFrame({'model':model_name, \n",
    "                        'params':params, \n",
    "                        'inequality':inequality, \n",
    "                        'inequity':inequity, \n",
    "                        'inequity_class':inequity_class}, index=[0])\n",
    "    \n",
    "    df_disparity = pd.concat([df_disparity, tmp], ignore_index=True)"
   ]
  },
  {
   "cell_type": "code",
   "execution_count": null,
   "metadata": {},
   "outputs": [],
   "source": [
    "df_disparity"
   ]
  },
  {
   "cell_type": "markdown",
   "metadata": {},
   "source": [
    "## Task 5. Plot and compare"
   ]
  },
  {
   "cell_type": "markdown",
   "metadata": {},
   "source": [
    "### Inequity: Minority fraction in top-k"
   ]
  },
  {
   "cell_type": "code",
   "execution_count": null,
   "metadata": {},
   "outputs": [],
   "source": [
    "### Plot the inequity of the 'pagerank' distribution (ME: mean error)\n",
    "### It shows the fraction of minoritiy nodes (y-axis) at each top-k rank (x-axis)\n",
    "### Then, ME is computed as the difference between the fraction of minority nodes in each top-k \n",
    "### and the actual fraction of minorities.\n",
    "\n",
    "fn = io.path_join(PLOTS, f'{EXID}_{metric}_inequity.pdf')\n",
    "\n",
    "viz.plot_fraction_of_minority(metadata, \n",
    "                              col_name=metric, \n",
    "                              sharex=True, sharey=True,\n",
    "                              cell_size = (2.5,2.5),\n",
    "                              wspace = 0.1,\n",
    "                              nc = 3,\n",
    "                              fn = fn)"
   ]
  },
  {
   "cell_type": "markdown",
   "metadata": {},
   "source": [
    "### Inequality: Gini coefficient of distribution"
   ]
  },
  {
   "cell_type": "code",
   "execution_count": null,
   "metadata": {},
   "outputs": [],
   "source": [
    "### Plot the inequality of the 'pagerank' distribution\n",
    "### It shows the Gini coefficient in each top-k.\n",
    "### Also, the global gini refers to the Gini at top-100% \n",
    "\n",
    "fn = io.path_join(PLOTS, f'{EXID}_{metric}_inequality.pdf')\n",
    "\n",
    "viz.plot_gini_coefficient(metadata, \n",
    "                          col_name = metric, \n",
    "                          sharex = True, sharey = True,\n",
    "                          nc = 3, \n",
    "                          wspace = 0.08, \n",
    "                          cell_size = (1.9,2.2),\n",
    "                          fn = fn)"
   ]
  },
  {
   "cell_type": "markdown",
   "metadata": {},
   "source": [
    "### Disparity: Inequality vs. Inequity"
   ]
  },
  {
   "cell_type": "code",
   "execution_count": null,
   "metadata": {},
   "outputs": [],
   "source": [
    "### Plot the disparity of the 'pagerank' distribution\n",
    "### It shows the inequity (ME) vs. inequality (Gini)\n",
    "\n",
    "fn = io.path_join(PLOTS, f'{EXID}_{metric}_disparity.pdf')\n",
    "\n",
    "viz.plot_disparity(metadata, \n",
    "                   col_name = metric, \n",
    "                   sharex = True, sharey = True,\n",
    "                   nc = 3, \n",
    "                   wspace = 0.08, \n",
    "                   cell_size = (1.9,2.2),\n",
    "                   fn = fn)"
   ]
  },
  {
   "cell_type": "markdown",
   "metadata": {},
   "source": [
    "## Bonus: Disentangling the effect of PA and H in ranking disparities"
   ]
  },
  {
   "cell_type": "code",
   "execution_count": null,
   "metadata": {},
   "outputs": [],
   "source": [
    "### Homopohily values to test\n",
    "h_mm = ...\n",
    "h_MM = ...\n",
    "metadata_models_directed = []\n",
    "\n",
    "### Graphs\n",
    "\n",
    "## Only preferential attachment\n",
    "mg = ...\n",
    "mg.simulate()\n",
    "md = networks.get_node_metadata_as_dataframe(mg.graph) \n",
    "md.name = mg.SHORT\n",
    "metadata_models_directed.append(md)\n",
    "\n",
    "## Only homophily\n",
    "mg = ...\n",
    "mg.simulate()\n",
    "md = networks.get_node_metadata_as_dataframe(mg.graph) \n",
    "md.name = mg.SHORT\n",
    "metadata_models_directed.append(md)\n",
    "\n",
    "## Both, preferential attachment and homophily\n",
    "mg = ...\n",
    "mg.simulate()\n",
    "md = networks.get_node_metadata_as_dataframe(mg.graph) \n",
    "md.name = mg.SHORT\n",
    "metadata_models_directed.append(md)\n"
   ]
  },
  {
   "cell_type": "code",
   "execution_count": null,
   "metadata": {},
   "outputs": [],
   "source": [
    "### Visualize\n",
    "fn = io.path_join(PLOTS, f'{EXID}_{metric}_disparity_DPA_DH_DPAH.pdf')\n",
    "viz.plot_disparity(metadata_models_directed, \n",
    "                   col_name = metric, \n",
    "                   sharex = True, sharey = True,\n",
    "                   nc = 3, \n",
    "                   wspace = 0.08, \n",
    "                   cell_size = (2.2,2.6),\n",
    "                   suptitle = \"Effects of homphily and preferential attachment\",\n",
    "                   fn = fn)"
   ]
  },
  {
   "cell_type": "markdown",
   "metadata": {},
   "source": [
    "## Bonus: Disentangling the effect of directed links"
   ]
  },
  {
   "cell_type": "code",
   "execution_count": null,
   "metadata": {},
   "outputs": [],
   "source": [
    "### Undirected networks\n",
    "from netin.models import PAModel\n",
    "from netin.models import HomophilyModel\n",
    "from netin.models import PAHModel"
   ]
  },
  {
   "cell_type": "code",
   "execution_count": null,
   "metadata": {},
   "outputs": [],
   "source": [
    "\n",
    "### Add graphs (similar as the ones above) but without directed links\n",
    "m = 2\n",
    "metadata_models_undirected = []\n",
    "\n",
    "## Only preferential attachment\n",
    "mg = ...\n",
    "mg.simulate()\n",
    "md = networks.get_node_metadata_as_dataframe(mg.graph) \n",
    "md.name = mg.SHORT\n",
    "metadata_models_undirected.append(md)\n",
    "\n",
    "## Only homophily\n",
    "mg = ...\n",
    "mg.simulate()\n",
    "md = networks.get_node_metadata_as_dataframe(mg.graph) \n",
    "md.name = mg.SHORT\n",
    "metadata_models_undirected.append(md)\n",
    "\n",
    "## Both, preferential attachment and homophily\n",
    "mg = ...\n",
    "mg.simulate()\n",
    "md = networks.get_node_metadata_as_dataframe(mg.graph) \n",
    "md.name = mg.SHORT\n",
    "metadata_models_undirected.append(md)\n"
   ]
  },
  {
   "cell_type": "code",
   "execution_count": null,
   "metadata": {},
   "outputs": [],
   "source": [
    "### Visualize\n",
    "fn = io.path_join(PLOTS, f'{EXID}_{metric}_disparity_directed_vs_undirected.pdf')\n",
    "viz.plot_disparity(metadata_models_directed + metadata_models_undirected, \n",
    "                   col_name = metric, \n",
    "                   sharex = True, sharey = True,\n",
    "                   nc = 3, \n",
    "                   wspace = 0.08, \n",
    "                   cell_size = (2.2,2.6),\n",
    "                   suptitle = \"Effects of directed links\",\n",
    "                   fn = fn)"
   ]
  },
  {
   "cell_type": "code",
   "execution_count": null,
   "metadata": {},
   "outputs": [],
   "source": []
  }
 ],
 "metadata": {
  "kernelspec": {
   "display_name": "Python 3 (ipykernel)",
   "language": "python",
   "name": "python3"
  },
  "language_info": {
   "codemirror_mode": {
    "name": "ipython",
    "version": 3
   },
   "file_extension": ".py",
   "mimetype": "text/x-python",
   "name": "python",
   "nbconvert_exporter": "python",
   "pygments_lexer": "ipython3",
   "version": "3.9.19"
  }
 },
 "nbformat": 4,
 "nbformat_minor": 4
}
